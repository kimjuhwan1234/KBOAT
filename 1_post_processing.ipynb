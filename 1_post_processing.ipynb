{
 "cells": [
  {
   "cell_type": "code",
   "outputs": [],
   "source": [
    "import joblib\n",
    "import warnings\n",
    "import numpy as np\n",
    "import pandas as pd\n",
    "import seaborn as sns\n",
    "from sklearn.metrics import *\n",
    "from matplotlib import pyplot as plt\n",
    "from sklearn.preprocessing import MinMaxScaler\n",
    "from IPython.core.interactiveshell import InteractiveShell\n",
    "\n",
    "warnings.filterwarnings(\"ignore\")"
   ],
   "metadata": {
    "collapsed": false,
    "ExecuteTime": {
     "end_time": "2024-08-14T04:41:28.197894100Z",
     "start_time": "2024-08-14T04:41:28.032187900Z"
    }
   },
   "id": "5a7365216f084516",
   "execution_count": 1
  },
  {
   "cell_type": "code",
   "outputs": [],
   "source": [
    "plt.rc('font', family='GULIM')\n",
    "warnings.filterwarnings(action='ignore')\n",
    "InteractiveShell.ast_node_interactivity = \"all\""
   ],
   "metadata": {
    "collapsed": false,
    "ExecuteTime": {
     "end_time": "2024-08-14T04:41:28.207411300Z",
     "start_time": "2024-08-14T04:41:28.200995100Z"
    }
   },
   "id": "d72017008e119bf8",
   "execution_count": 2
  },
  {
   "cell_type": "code",
   "outputs": [],
   "source": [
    "X_test_self = pd.read_csv('Database/X_self_test.csv', index_col=0)\n",
    "y_test_self = pd.read_csv('Database/y_self_test.csv', index_col=0)"
   ],
   "metadata": {
    "collapsed": false,
    "ExecuteTime": {
     "end_time": "2024-08-14T04:41:28.305887Z",
     "start_time": "2024-08-14T04:41:28.205349200Z"
    }
   },
   "id": "7c1006d94f65567c",
   "execution_count": 3
  },
  {
   "cell_type": "code",
   "outputs": [],
   "source": [
    "i=0\n",
    "sampling_result=['original']\n",
    "best_dt = joblib.load(f'File/dt_{sampling_result[i]}_model.pkl')\n",
    "best_lgb = joblib.load(f'File/lgb_{sampling_result[i]}_model.pkl')\n",
    "best_xgb = joblib.load(f'File/xgb_{sampling_result[i]}_model.pkl')\n",
    "best_cat = joblib.load(f'File/cat_{sampling_result[i]}_model.pkl')"
   ],
   "metadata": {
    "collapsed": false,
    "ExecuteTime": {
     "end_time": "2024-08-14T04:41:28.511591400Z",
     "start_time": "2024-08-14T04:41:28.307943100Z"
    }
   },
   "id": "2884b122625004ed",
   "execution_count": 4
  },
  {
   "cell_type": "code",
   "outputs": [
    {
     "name": "stdout",
     "output_type": "stream",
     "text": [
      "[LightGBM] [Warning] Accuracy may be bad since you didn't explicitly set num_leaves OR 2^max_depth > num_leaves. (num_leaves=31).\n"
     ]
    }
   ],
   "source": [
    "proba1 = best_dt.predict_proba(X_test_self)\n",
    "proba2 = best_lgb.predict_proba(X_test_self)\n",
    "proba3 = best_xgb.predict_proba(X_test_self)\n",
    "proba4 = best_cat.predict_proba(X_test_self)\n",
    "average_proba = (proba1 + proba2 + proba3 + proba4) / 4\n",
    "\n",
    "dt_result = np.argmax(proba1, axis=1)\n",
    "lgb_result = np.argmax(proba2, axis=1)\n",
    "xgb_result = np.argmax(proba3, axis=1)\n",
    "cat_result = np.argmax(proba4, axis=1)\n",
    "soft_voting_result = np.argmax(average_proba, axis=1)"
   ],
   "metadata": {
    "collapsed": false,
    "ExecuteTime": {
     "end_time": "2024-08-14T04:41:28.662839900Z",
     "start_time": "2024-08-14T04:41:28.512719200Z"
    }
   },
   "id": "65e7e43f7919bdf6",
   "execution_count": 5
  },
  {
   "cell_type": "code",
   "outputs": [],
   "source": [
    "metric_df = pd.DataFrame(columns=['DT', 'LGBM', 'XGB', 'CAT', 'Soft Voting'],\n",
    "                         index=['Accuracy', 'Recall', 'Precision', 'F1-Score', 'AUC'])"
   ],
   "metadata": {
    "collapsed": false,
    "ExecuteTime": {
     "end_time": "2024-08-14T04:41:28.667007100Z",
     "start_time": "2024-08-14T04:41:28.659558500Z"
    }
   },
   "id": "79842fc29e55c1d1",
   "execution_count": 6
  },
  {
   "cell_type": "code",
   "outputs": [],
   "source": [
    "def calculate_metrics(metric_df, y_true, y_pred, proba, model_name):\n",
    "    metric_df.loc['Accuracy', model_name] = f\"{accuracy_score(y_true, y_pred):.5f}\"\n",
    "    metric_df.loc['Recall', model_name] = f\"{recall_score(y_true, y_pred, average='binary'):.5f}\"\n",
    "    metric_df.loc['Precision', model_name] = f\"{precision_score(y_true, y_pred, average='binary'):.5f}\"\n",
    "    metric_df.loc['F1-Score', model_name] = f\"{f1_score(y_true, y_pred, average='binary'):.5f}\"\n",
    "    metric_df.loc['AUC', model_name] = f\"{roc_auc_score(y_true, proba[:, 1]):.5f}\"\n",
    "\n",
    "# 각 모델에 대해 메트릭 계산\n",
    "models = {\n",
    "    'DT': (dt_result, proba1),\n",
    "    'LGBM': (lgb_result, proba2),\n",
    "    'XGB': (xgb_result, proba3),\n",
    "    'CAT': (cat_result, proba4),\n",
    "    'Soft Voting': (soft_voting_result, average_proba),\n",
    "}\n",
    "\n",
    "for model_name, (y_pred, proba) in models.items():\n",
    "    calculate_metrics(metric_df, y_test_self, y_pred, proba, model_name)"
   ],
   "metadata": {
    "collapsed": false,
    "ExecuteTime": {
     "end_time": "2024-08-14T04:41:28.788523200Z",
     "start_time": "2024-08-14T04:41:28.667007100Z"
    }
   },
   "id": "92b6ddfeed21388e",
   "execution_count": 7
  },
  {
   "cell_type": "code",
   "outputs": [],
   "source": [
    "# metric_df.to_csv(f'File/metric_{sampling_result[i]}.csv')"
   ],
   "metadata": {
    "collapsed": false,
    "ExecuteTime": {
     "end_time": "2024-08-14T04:41:28.809465100Z",
     "start_time": "2024-08-14T04:41:28.805804900Z"
    }
   },
   "id": "88f79a3bcc73378b",
   "execution_count": 9
  },
  {
   "cell_type": "code",
   "outputs": [],
   "source": [
    "# 특성 중요도 추출\n",
    "dt_importances = best_dt.feature_importances_\n",
    "lgb_importances = best_lgb.feature_importances_\n",
    "xgb_importances = best_xgb.feature_importances_\n",
    "cat_importances = best_cat.get_feature_importance()\n",
    "\n",
    "# 특성 중요도를 데이터프레임으로 정리\n",
    "features = X_test_self.columns\n",
    "importance_df = pd.DataFrame({\n",
    "    'Feature': features,\n",
    "    'Decision Tree': dt_importances,\n",
    "    'LightGBM': lgb_importances,\n",
    "    'XGBoost': xgb_importances,\n",
    "    'CatBoost': cat_importances\n",
    "})\n",
    "\n",
    "model_list = ['Decision Tree', 'LightGBM', 'XGBoost', 'CatBoost']\n",
    "\n",
    "scaler = MinMaxScaler()\n",
    "importnce_values = scaler.fit_transform(importance_df[model_list].values)\n",
    "\n",
    "scaled_importance_df = pd.DataFrame(data=importnce_values, columns=model_list)\n",
    "scaled_importance_df = pd.concat([importance_df['Feature'], scaled_importance_df], axis=1)\n",
    "\n",
    "scaled_importance_df = scaled_importance_df.melt(id_vars=['Feature'], var_name='Model',\n",
    "                                                 value_name='Importance')\n",
    "\n",
    "# 시각화\n",
    "plt.figure(figsize=(12, 8))\n",
    "sns.barplot(data=scaled_importance_df[scaled_importance_df['Model']=='LightGBM'], x='Importance', y='Feature', hue='Model')\n",
    "plt.title('Feature Importance Comparison')\n",
    "plt.legend(loc='upper right')\n",
    "plt.show()"
   ],
   "metadata": {
    "collapsed": false
   },
   "id": "f25b872a69cd2b92",
   "execution_count": null
  }
 ],
 "metadata": {
  "kernelspec": {
   "display_name": "Python 3",
   "language": "python",
   "name": "python3"
  },
  "language_info": {
   "codemirror_mode": {
    "name": "ipython",
    "version": 2
   },
   "file_extension": ".py",
   "mimetype": "text/x-python",
   "name": "python",
   "nbconvert_exporter": "python",
   "pygments_lexer": "ipython2",
   "version": "2.7.6"
  }
 },
 "nbformat": 4,
 "nbformat_minor": 5
}
