{
 "cells": [
  {
   "cell_type": "code",
   "outputs": [],
   "source": [
    "import warnings\n",
    "import numpy as np\n",
    "import pandas as pd\n",
    "\n",
    "warnings.filterwarnings(\"ignore\", category=FutureWarning)"
   ],
   "metadata": {
    "collapsed": false,
    "ExecuteTime": {
     "end_time": "2024-08-16T07:06:24.239192700Z",
     "start_time": "2024-08-16T07:06:24.230154900Z"
    }
   },
   "id": "68a4a76283979d6e",
   "execution_count": 50
  },
  {
   "cell_type": "code",
   "outputs": [],
   "source": [
    "boat_df = pd.read_csv('Database/boat.csv')\n",
    "div_df = pd.read_csv('Database/dividend.csv')\n",
    "motor_df = pd.read_csv('Database/moter.csv')\n",
    "player_df = pd.read_csv('Database/player.csv')\n",
    "rank_df = pd.read_csv('Database/rank.csv')\n",
    "schedule_df = pd.read_csv('Database/schedule.csv', low_memory=False)"
   ],
   "metadata": {
    "collapsed": false,
    "ExecuteTime": {
     "end_time": "2024-08-16T07:20:56.794332300Z",
     "start_time": "2024-08-16T07:20:56.095673800Z"
    }
   },
   "id": "85797791172e01a8",
   "execution_count": 68
  },
  {
   "cell_type": "code",
   "outputs": [
    {
     "data": {
      "text/plain": "(104130, 42)"
     },
     "execution_count": 17,
     "metadata": {},
     "output_type": "execute_result"
    }
   ],
   "source": [
    "schedule_df.shape"
   ],
   "metadata": {
    "collapsed": false,
    "ExecuteTime": {
     "end_time": "2024-08-16T06:51:02.741322200Z",
     "start_time": "2024-08-16T06:51:02.736649900Z"
    }
   },
   "id": "11fd51edfeb1e544",
   "execution_count": 17
  },
  {
   "cell_type": "code",
   "outputs": [],
   "source": [
    "df_1 = schedule_df.copy()\n",
    "boat_df['BOAT_NO'] = boat_df['BOAT_NO'].apply(lambda x: int(x[-2:]))\n",
    "\n",
    "for col in boat_df.columns:\n",
    "    if col != 'BASE_YEAR' and col != 'BOAT_NO':\n",
    "        df_1[f'{col}_BOAT'] = np.nan\n",
    "\n",
    "for i, row in df_1.iterrows():\n",
    "    condition = (boat_df['BASE_YEAR'] == row['RACE_YEAR']) & (boat_df['BOAT_NO'] == row['BOAT_NO'])\n",
    "    if condition.any():\n",
    "        matching_row = boat_df[condition].iloc[0]\n",
    "        for col in matching_row.index:\n",
    "            if col != 'BASE_YEAR' and col != 'BOAT_NO':\n",
    "                df_1.at[i, f'{col}_BOAT'] = matching_row[col]"
   ],
   "metadata": {
    "collapsed": false,
    "ExecuteTime": {
     "end_time": "2024-08-16T06:52:04.905347100Z",
     "start_time": "2024-08-16T06:51:03.552186300Z"
    }
   },
   "id": "ffe5117ce7462599",
   "execution_count": 18
  },
  {
   "cell_type": "code",
   "outputs": [
    {
     "data": {
      "text/plain": "(104130, 51)"
     },
     "execution_count": 19,
     "metadata": {},
     "output_type": "execute_result"
    }
   ],
   "source": [
    "df_1.shape"
   ],
   "metadata": {
    "collapsed": false,
    "ExecuteTime": {
     "end_time": "2024-08-16T06:52:12.893569Z",
     "start_time": "2024-08-16T06:52:12.874369500Z"
    }
   },
   "id": "6a3c0954fe90b60a",
   "execution_count": 19
  },
  {
   "cell_type": "code",
   "outputs": [],
   "source": [
    "df_2 = df_1.copy()\n",
    "motor_df['MOTOR_NO'] = motor_df['MOTOR_NO'].apply(lambda x: int(x[-2:]))\n",
    "\n",
    "for col in motor_df.columns:\n",
    "    if col != 'RACE_YEAR' and col != 'MOTOR_NO':\n",
    "        df_2[f'{col}_MOTOR'] = np.nan\n",
    "\n",
    "for i, row in df_2.iterrows():\n",
    "    condition = (motor_df['RACE_YEAR'] == row['RACE_YEAR']) & (motor_df['MOTOR_NO'] == row['MOTOR_NO'])\n",
    "    if condition.any():\n",
    "        matching_row = motor_df[condition].iloc[0]\n",
    "        for col in matching_row.index:\n",
    "            if col != 'RACE_YEAR' and col != 'MOTOR_NO':\n",
    "                df_2.at[i, f'{col}_MOTOR'] = matching_row[col]"
   ],
   "metadata": {
    "collapsed": false,
    "ExecuteTime": {
     "end_time": "2024-08-16T06:53:18.771946800Z",
     "start_time": "2024-08-16T06:52:23.105831400Z"
    }
   },
   "id": "8aaadbda18f62994",
   "execution_count": 21
  },
  {
   "cell_type": "code",
   "outputs": [
    {
     "data": {
      "text/plain": "(104130, 60)"
     },
     "execution_count": 22,
     "metadata": {},
     "output_type": "execute_result"
    }
   ],
   "source": [
    "df_2.shape"
   ],
   "metadata": {
    "collapsed": false,
    "ExecuteTime": {
     "end_time": "2024-08-16T06:53:18.782201700Z",
     "start_time": "2024-08-16T06:53:18.772978600Z"
    }
   },
   "id": "5ac0c38e20b928de",
   "execution_count": 22
  },
  {
   "cell_type": "code",
   "outputs": [],
   "source": [
    "df_3 = df_2.copy()\n",
    "rank_df = rank_df.iloc[:, :7]\n",
    "rank_df.iloc[:, -3:] = rank_df.iloc[:, -3:].applymap(lambda x: str(x)[1:])\n",
    "\n",
    "merged_df = df_3.merge(rank_df, how='left',\n",
    "                       left_on=['RACE_YEAR', 'TME_VALUE', 'DAY_ORD_VALUE', 'RACE_NO'],\n",
    "                       right_on=['RACE_YEAR', 'TME_VALUE', 'DAY_ORD_VALUE', 'RACE_NO'])\n",
    "\n",
    "df_3['RANK'] = np.where(merged_df['PLAYER_NM'] == merged_df['N1R_PLAYER_NM'], 1,\n",
    "                        np.where(merged_df['PLAYER_NM'] == merged_df['N2R_PLAYER_NM'], 2,\n",
    "                                 np.where(merged_df['PLAYER_NM'] == merged_df['N3R_PLAYER_NM'], 3, -1)))"
   ],
   "metadata": {
    "collapsed": false,
    "ExecuteTime": {
     "end_time": "2024-08-16T07:06:29.214547700Z",
     "start_time": "2024-08-16T07:06:29.071275600Z"
    }
   },
   "id": "6cb6383dbaa379b2",
   "execution_count": 52
  },
  {
   "cell_type": "code",
   "outputs": [
    {
     "data": {
      "text/plain": "(104130, 61)"
     },
     "execution_count": 54,
     "metadata": {},
     "output_type": "execute_result"
    }
   ],
   "source": [
    "df_3.shape"
   ],
   "metadata": {
    "collapsed": false,
    "ExecuteTime": {
     "end_time": "2024-08-16T07:06:37.829910900Z",
     "start_time": "2024-08-16T07:06:37.821647200Z"
    }
   },
   "id": "7764b455f57d71d4",
   "execution_count": 54
  },
  {
   "cell_type": "code",
   "outputs": [],
   "source": [
    "df_4 = df_3.copy()\n",
    "\n",
    "for col in player_df.columns:\n",
    "    if col != 'RACE_YEAR' and col != 'PLAYER_NM':\n",
    "        df_4[f'{col}_PLAYER'] = np.nan\n",
    "\n",
    "for i, row in df_4.iterrows():\n",
    "    condition = (player_df['RACE_YEAR'] == row['RACE_YEAR']) & (player_df['PLAYER_NM'] == row['PLAYER_NM'])\n",
    "    if condition.any():\n",
    "        matching_row = player_df[condition].iloc[0]\n",
    "        for col in matching_row.index:\n",
    "            if col != 'RACE_YEAR' and col != 'PLAYER_NM':\n",
    "                df_4.at[i, f'{col}_PLAYER'] = matching_row[col]"
   ],
   "metadata": {
    "collapsed": false,
    "ExecuteTime": {
     "end_time": "2024-08-16T07:15:15.702401600Z",
     "start_time": "2024-08-16T07:13:39.388316700Z"
    }
   },
   "id": "85846ee967c3141f",
   "execution_count": 58
  },
  {
   "cell_type": "code",
   "outputs": [
    {
     "data": {
      "text/plain": "(104130, 78)"
     },
     "execution_count": 59,
     "metadata": {},
     "output_type": "execute_result"
    }
   ],
   "source": [
    "df_4.shape"
   ],
   "metadata": {
    "collapsed": false,
    "ExecuteTime": {
     "end_time": "2024-08-16T07:15:15.711855900Z",
     "start_time": "2024-08-16T07:15:15.704400800Z"
    }
   },
   "id": "2827befbf8e9a8c",
   "execution_count": 59
  },
  {
   "cell_type": "code",
   "outputs": [],
   "source": [
    "df_5=df_4.copy()\n",
    "mask = div_df['OPER_INSTT_NM'] == '경정'\n",
    "div_df = div_df[mask]\n",
    "div_df.rename(columns={'PRACE_NO': 'RACE_NO'}, inplace=True)\n",
    "\n",
    "df_5 = df_5.merge(div_df, how='left',\n",
    "                       left_on=['RACE_YEAR', 'TME_VALUE', 'DAY_ORD_VALUE', 'RACE_NO'],\n",
    "                       right_on=['BASE_YEAR', 'TME_VALUE', 'DAY_ORD_VALUE', 'RACE_NO'])"
   ],
   "metadata": {
    "collapsed": false,
    "ExecuteTime": {
     "end_time": "2024-08-16T07:21:00.264194100Z",
     "start_time": "2024-08-16T07:21:00.128768300Z"
    }
   },
   "id": "f427e25d3cf24633",
   "execution_count": 69
  },
  {
   "cell_type": "code",
   "outputs": [
    {
     "data": {
      "text/plain": "(104130, 89)"
     },
     "execution_count": 70,
     "metadata": {},
     "output_type": "execute_result"
    }
   ],
   "source": [
    "df_5.shape"
   ],
   "metadata": {
    "collapsed": false,
    "ExecuteTime": {
     "end_time": "2024-08-16T07:21:00.483210800Z",
     "start_time": "2024-08-16T07:21:00.477750800Z"
    }
   },
   "id": "eb594d13ef0ed87c",
   "execution_count": 70
  },
  {
   "cell_type": "code",
   "outputs": [],
   "source": [
    "df_5.to_csv('Database/train.csv')"
   ],
   "metadata": {
    "collapsed": false,
    "ExecuteTime": {
     "end_time": "2024-08-16T07:21:45.811405100Z",
     "start_time": "2024-08-16T07:21:41.499418700Z"
    }
   },
   "id": "e518e93c71cc61fc",
   "execution_count": 71
  },
  {
   "cell_type": "markdown",
   "source": [
    "# 여기서부터 새로 전처리 시작"
   ],
   "metadata": {
    "collapsed": false
   },
   "id": "7e26bd5ad766643a"
  },
  {
   "cell_type": "code",
   "outputs": [],
   "source": [
    "data=pd.read_csv('Database/train.csv', index_col=0, low_memory=False)"
   ],
   "metadata": {
    "collapsed": false
   },
   "id": "f0aeea42914bcbdc",
   "execution_count": 82
  },
  {
   "cell_type": "markdown",
   "source": [
    "## 배치로 묶기 위해 필요.\n",
    "'RACE_YEAR', 경주년도\n",
    " 'TME_VALUE', 회차값\n",
    " 'DAY_ORD_VALUE', 일차값\n",
    " 'RACE_NO', 경주번호\n",
    "\n",
    "## 타겟칼럼 1,2,3까지는 순위가 있고 그 밑은 -1로 처리\n",
    " 'RANK', 순위\n",
    "\n",
    "## 필요없어 보이는 column.\n",
    " 'RACE_GRAD_NM', 일반경주 or 특별경주\n",
    " 'DPTR_TIME_VALUE', 출발시간 값/flying start 값 있어서 필요없어보임.\n",
    " 'JUNGBUN_NM', 정번명/선수고유번호라는데 필요없어보임.\n",
    " 'COLOR_NM', 색상명\n",
    " 'PLAYER_NM', 선수명\n",
    " 'THDT_PRACE_RACE_NO', 금일출주경주번호\n",
    " 'BEF1_BRDNG_PLAYER_CKSN_VALUE', 전탑승선수\n",
    " 'MOTOR_NO', 모터번호/ moter_df 다 합쳐서 필요없을듯\n",
    " 'BOAT_NO', 보트번호/ boat_df 다 합쳐서 필요없을듯\n",
    "\n",
    "## 중요한 column.\n",
    " 'PLAYER_GRAD_NM', 선수등급 중요\n",
    " 'SEXDSTN_FLAG_NM', 성별 아마도 중요\n",
    " 'AGE_VALUE', 나이 별로 안중요\n",
    " 'BDWGH_MESURE_VALUE', 몸무게 중요\n",
    " \n",
    " 'LATST_SIX_TME_AVRG_CKSN_SCORE_VALUE', 최근6회차평균착순점수값\n",
    " 'LATST_SIX_TME_AVRG_GTSR_VALUE', 최근6회차평균득점값\n",
    " 'LATST_SIX_TME_VICTRY_RT_VALUE', 최근6회차승리율값\n",
    " 'LATST_SIX_TME_YUNDAE_RT_TWO_VALUE', 최근6회차연대율2값\n",
    " 'LATST_SIX_TME_YUNDAE_RT_THREE_VALUE', 최근6회차연대율3값\n",
    " 'LATST_SIX_TME_AVGST_VALUE', 최근6회차평균ST값\n",
    " 'LATST_EIGHT_RACE_CKSN_VALUE', 최근8경주착순값\n",
    " \n",
    " 'FLYING_LATE_CO_VALUE', 플라잉 or 레이트 스타트 여부\n",
    " 'AVRG_ACDTSCRE_VALUE', 평균사고점\n",
    " \n",
    " 'FYER_ACCMLT_SCRE_AVRG_CKSN_SCORE_VALUE', 년간누적성적평균착순점수값\n",
    " 'FYER_ACCMLT_SCRE_YUNDAE_RT_VALUE', 년간누적성적연대율값\n",
    " \n",
    " \n",
    "## 좉같이 되어있어서 해석을 못함. 어떻게 쓸지 모르겠는 column\n",
    " 'BEF1_DAY_SCRE_VALUE', 전일성적값\n",
    " 'SIX_MONTH_PRACE_NCNT_VALUE', 6개월출주횟수값\n",
    " 'SIX_MONTH_YUNDAE_RT_COSE1_PRACE_CO_VALUE', 6개월연대율1코스출주수값\n",
    " 'SIX_MONTH_YUNDAE_RT_COSE2_PRACE_CO_VALUE', 6개월연대율2코스출주수값\n",
    " 'SIX_MONTH_YUNDAE_RT_COSE3_PRACE_CO_VALUE', 6개월연대율3코스출주수값\n",
    " 'SIX_MONTH_YUNDAE_RT_COSE4_PRACE_CO_VALUE', 6개월연대율4코스출주수값\n",
    " 'SIX_MONTH_YUNDAE_RT_COSE5_PRACE_CO_VALUE', 6개월연대율5코스출주수값\n",
    " 'SIX_MONTH_YUNDAE_RT_COSE6_PRACE_CO_VALUE', 6개월연대율6코스출주수값\n",
    " \n",
    "\n",
    "## 출주표에 원래 있던 모터 and 보트 정보\n",
    " 'MOTOR_AVRG_CKSN_SCORE_VALUE', 모터평균착순점수값\n",
    " 'MOTOR_TWO_YUNDAE_RT_VALUE', 모터2연대율값\n",
    " 'MOTOR_THREE_YUNDAE_RT_VALUE', 모터3연대율값\n",
    "\n",
    " 'BOAT_AVRG_CKSN_SCORE_VALUE', 보트평균착순점수값\n",
    " 'BOAT_YUNDAE_RT_VALUE', 보트연대율값\n",
    " 'DPTR_MTH_CD', 출발방법코드\n",
    " \n",
    "----------------------------------------------------------------------------------------\n",
    "이 밑 부턴 실제 test셋을 구할수 있는지 모르겠음\n",
    "\n",
    "## 출주표에 없는 보트정보\n",
    "  데이터 스키마가 없어서 못적음.\n",
    " 'PRACE_NCNT_BOAT',\n",
    " 'N1CK_NCNT_BOAT',\n",
    " 'N2CK_NCNT_BOAT',\n",
    " 'N3CK_NCNT_BOAT',\n",
    " 'AVRG_CKSN_SCORE_VALUE_BOAT',\n",
    " 'YUNDAE_RT_BOAT',\n",
    " 'BEST_SAIL_TIME_VALUE_BOAT',\n",
    " 'N2JU_BEST_TIME_VALUE_BOAT',\n",
    " 'N3JU_BEST_TIME_VALUE_BOAT',\n",
    " \n",
    "## 출주표에 없는 모터정보\n",
    " 'PRACE_NCNT_MOTOR', 출주횟수\n",
    " 'N1CK_NCNT_MOTOR', 1착횟수\n",
    " 'N2CK_NCNT_MOTOR', 2착횟수\n",
    " 'N3CK_NCNT_MOTOR', 3착횟수\n",
    " 'AVRG_CKSN_SCORE_VALUE_MOTOR', 평균착순점수값\n",
    " 'YUNDAE_RT_MOTOR', 연대율\n",
    " 'BEST_SAIL_TIME_VALUE_MOTOR', 최고항주시간값\n",
    " 'N2JU_BEST_TIME_VALUE_MOTOR', 2주회최고시간값\n",
    " 'N3JU_BEST_TIME_VALUE_MOTOR', 3주회최고시간값\n",
    " \n",
    "## 출주표에 없는 선수정보\n",
    "  데이터 스키마가 없어서 못적음.\n",
    " 'PLAYER_REGIST_NO_PLAYER',\n",
    " 'PRACE_NCNT_PLAYER',\n",
    " 'PRACE_1R_NCNT_PLAYER',\n",
    " 'PRACE_2R_NCNT_PLAYER',\n",
    " 'PRACE_3R_NCNT_PLAYER',\n",
    " 'PRACE_4R_NCNT_PLAYER',\n",
    " 'PRACE_5R_NCNT_PLAYER',\n",
    " 'PRACE_6R_NCNT_PLAYER',\n",
    " 'AVRG_CKSN_SCORE_VALUE_PLAYER',\n",
    " 'AVRG_ACDNT_SCORE_VALUE_PLAYER',\n",
    " 'AVRG_SCORE_VALUE_PLAYER',\n",
    " 'AVRG_BEGIN_TIME_VALUE_PLAYER',\n",
    " 'VICTRY_RT_PLAYER',\n",
    " 'YUNDAE_RT_PLAYER',\n",
    " 'THREE_YUNDAE_RT_PLAYER',\n",
    " 'PLAYER_GRAD_NM_PLAYER',\n",
    " 'PLAYER_PN_NO_PLAYER',\n",
    " \n",
    "## 배당정보인데 순위예측할거면 필요없지만 일단 붙여놓음.\n",
    " 'OPER_INSTT_NM', 운영기관명\n",
    " 'BASE_YEAR', 기준년도\n",
    " 'RACE_DE', 경주일자\n",
    " 'DANSEONG_VALUE', 단승값\n",
    " 'YNGSEONG_ONE_VALUE', 연승1값\n",
    " 'YNGSEONG_TWO_VALUE', 연승2값\n",
    " 'SSANGSEONG_VALUE', 쌍승값\n",
    " 'BOKSEONG_VALUE', 복승값\n",
    " 'SAMBOKSEONG_VALUE', 삼복승값\n",
    " 'SAMSSANGSEONG_DVDN_RT', 삼쌍승배당율\n",
    " 'SSANBOKSEONG_DVDN_RT' 쌍복승배당율"
   ],
   "metadata": {
    "collapsed": false
   },
   "id": "dab43da433917dc6"
  }
 ],
 "metadata": {
  "kernelspec": {
   "display_name": "Python 3",
   "language": "python",
   "name": "python3"
  },
  "language_info": {
   "codemirror_mode": {
    "name": "ipython",
    "version": 2
   },
   "file_extension": ".py",
   "mimetype": "text/x-python",
   "name": "python",
   "nbconvert_exporter": "python",
   "pygments_lexer": "ipython2",
   "version": "2.7.6"
  }
 },
 "nbformat": 4,
 "nbformat_minor": 5
}
