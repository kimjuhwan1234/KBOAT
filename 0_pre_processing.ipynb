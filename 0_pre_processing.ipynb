{
 "cells": [
  {
   "cell_type": "code",
   "outputs": [],
   "source": [
    "import h5py\n",
    "import warnings\n",
    "import numpy as np\n",
    "import pandas as pd\n",
    "from joblib import dump\n",
    "from matplotlib import pyplot as plt\n",
    "from category_encoders import TargetEncoder\n",
    "from sklearn.preprocessing import StandardScaler\n",
    "from IPython.core.interactiveshell import InteractiveShell\n",
    "from sklearn.preprocessing import OrdinalEncoder, OneHotEncoder\n",
    "\n",
    "plt.rc('font', family='GULIM')\n",
    "InteractiveShell.ast_node_interactivity = \"all\"\n",
    "warnings.filterwarnings(\"ignore\", category=FutureWarning)"
   ],
   "metadata": {
    "collapsed": false,
    "ExecuteTime": {
     "end_time": "2024-08-16T11:52:58.041276200Z",
     "start_time": "2024-08-16T11:52:58.012719800Z"
    }
   },
   "id": "aa63ee1e1c1508f7",
   "execution_count": 57
  },
  {
   "cell_type": "markdown",
   "source": [
    "# 맨 밑으로 ㄱㄱ"
   ],
   "metadata": {
    "collapsed": false
   },
   "id": "f082e9826d588ea3"
  },
  {
   "cell_type": "code",
   "outputs": [],
   "source": [
    "boat_df = pd.read_csv('Database/boat.csv')\n",
    "div_df = pd.read_csv('Database/dividend.csv')\n",
    "motor_df = pd.read_csv('Database/moter.csv')\n",
    "player_df = pd.read_csv('Database/player.csv')\n",
    "rank_df = pd.read_csv('Database/rank.csv')\n",
    "schedule_df = pd.read_csv('Database/schedule.csv', low_memory=False)"
   ],
   "metadata": {
    "collapsed": false,
    "ExecuteTime": {
     "end_time": "2024-08-16T07:20:56.794332300Z",
     "start_time": "2024-08-16T07:20:56.095673800Z"
    }
   },
   "id": "85797791172e01a8",
   "execution_count": 68
  },
  {
   "cell_type": "code",
   "outputs": [
    {
     "data": {
      "text/plain": "(104130, 42)"
     },
     "execution_count": 17,
     "metadata": {},
     "output_type": "execute_result"
    }
   ],
   "source": [
    "schedule_df.shape"
   ],
   "metadata": {
    "collapsed": false,
    "ExecuteTime": {
     "end_time": "2024-08-16T06:51:02.741322200Z",
     "start_time": "2024-08-16T06:51:02.736649900Z"
    }
   },
   "id": "11fd51edfeb1e544",
   "execution_count": 17
  },
  {
   "cell_type": "code",
   "outputs": [],
   "source": [
    "df_1 = schedule_df.copy()\n",
    "boat_df['BOAT_NO'] = boat_df['BOAT_NO'].apply(lambda x: int(x[-2:]))\n",
    "\n",
    "for col in boat_df.columns:\n",
    "    if col != 'BASE_YEAR' and col != 'BOAT_NO':\n",
    "        df_1[f'{col}_BOAT'] = np.nan\n",
    "\n",
    "for i, row in df_1.iterrows():\n",
    "    condition = (boat_df['BASE_YEAR'] == row['RACE_YEAR']) & (boat_df['BOAT_NO'] == row['BOAT_NO'])\n",
    "    if condition.any():\n",
    "        matching_row = boat_df[condition].iloc[0]\n",
    "        for col in matching_row.index:\n",
    "            if col != 'BASE_YEAR' and col != 'BOAT_NO':\n",
    "                df_1.at[i, f'{col}_BOAT'] = matching_row[col]"
   ],
   "metadata": {
    "collapsed": false,
    "ExecuteTime": {
     "end_time": "2024-08-16T06:52:04.905347100Z",
     "start_time": "2024-08-16T06:51:03.552186300Z"
    }
   },
   "id": "ffe5117ce7462599",
   "execution_count": 18
  },
  {
   "cell_type": "code",
   "outputs": [
    {
     "data": {
      "text/plain": "(104130, 51)"
     },
     "execution_count": 19,
     "metadata": {},
     "output_type": "execute_result"
    }
   ],
   "source": [
    "df_1.shape"
   ],
   "metadata": {
    "collapsed": false,
    "ExecuteTime": {
     "end_time": "2024-08-16T06:52:12.893569Z",
     "start_time": "2024-08-16T06:52:12.874369500Z"
    }
   },
   "id": "6a3c0954fe90b60a",
   "execution_count": 19
  },
  {
   "cell_type": "code",
   "outputs": [],
   "source": [
    "df_2 = df_1.copy()\n",
    "motor_df['MOTOR_NO'] = motor_df['MOTOR_NO'].apply(lambda x: int(x[-2:]))\n",
    "\n",
    "for col in motor_df.columns:\n",
    "    if col != 'RACE_YEAR' and col != 'MOTOR_NO':\n",
    "        df_2[f'{col}_MOTOR'] = np.nan\n",
    "\n",
    "for i, row in df_2.iterrows():\n",
    "    condition = (motor_df['RACE_YEAR'] == row['RACE_YEAR']) & (motor_df['MOTOR_NO'] == row['MOTOR_NO'])\n",
    "    if condition.any():\n",
    "        matching_row = motor_df[condition].iloc[0]\n",
    "        for col in matching_row.index:\n",
    "            if col != 'RACE_YEAR' and col != 'MOTOR_NO':\n",
    "                df_2.at[i, f'{col}_MOTOR'] = matching_row[col]"
   ],
   "metadata": {
    "collapsed": false,
    "ExecuteTime": {
     "end_time": "2024-08-16T06:53:18.771946800Z",
     "start_time": "2024-08-16T06:52:23.105831400Z"
    }
   },
   "id": "8aaadbda18f62994",
   "execution_count": 21
  },
  {
   "cell_type": "code",
   "outputs": [
    {
     "data": {
      "text/plain": "(104130, 60)"
     },
     "execution_count": 22,
     "metadata": {},
     "output_type": "execute_result"
    }
   ],
   "source": [
    "df_2.shape"
   ],
   "metadata": {
    "collapsed": false,
    "ExecuteTime": {
     "end_time": "2024-08-16T06:53:18.782201700Z",
     "start_time": "2024-08-16T06:53:18.772978600Z"
    }
   },
   "id": "5ac0c38e20b928de",
   "execution_count": 22
  },
  {
   "cell_type": "code",
   "outputs": [],
   "source": [
    "df_3 = df_2.copy()\n",
    "rank_df = rank_df.iloc[:, :7]\n",
    "rank_df.iloc[:, -3:] = rank_df.iloc[:, -3:].applymap(lambda x: str(x)[1:])\n",
    "\n",
    "merged_df = df_3.merge(rank_df, how='left',\n",
    "                       left_on=['RACE_YEAR', 'TME_VALUE', 'DAY_ORD_VALUE', 'RACE_NO'],\n",
    "                       right_on=['RACE_YEAR', 'TME_VALUE', 'DAY_ORD_VALUE', 'RACE_NO'])\n",
    "\n",
    "df_3['RANK'] = np.where(merged_df['PLAYER_NM'] == merged_df['N1R_PLAYER_NM'], 1,\n",
    "                        np.where(merged_df['PLAYER_NM'] == merged_df['N2R_PLAYER_NM'], 2,\n",
    "                                 np.where(merged_df['PLAYER_NM'] == merged_df['N3R_PLAYER_NM'], 3, -1)))"
   ],
   "metadata": {
    "collapsed": false,
    "ExecuteTime": {
     "end_time": "2024-08-16T07:06:29.214547700Z",
     "start_time": "2024-08-16T07:06:29.071275600Z"
    }
   },
   "id": "6cb6383dbaa379b2",
   "execution_count": 52
  },
  {
   "cell_type": "code",
   "outputs": [
    {
     "data": {
      "text/plain": "(104130, 61)"
     },
     "execution_count": 54,
     "metadata": {},
     "output_type": "execute_result"
    }
   ],
   "source": [
    "df_3.shape"
   ],
   "metadata": {
    "collapsed": false,
    "ExecuteTime": {
     "end_time": "2024-08-16T07:06:37.829910900Z",
     "start_time": "2024-08-16T07:06:37.821647200Z"
    }
   },
   "id": "7764b455f57d71d4",
   "execution_count": 54
  },
  {
   "cell_type": "code",
   "outputs": [],
   "source": [
    "df_4 = df_3.copy()\n",
    "\n",
    "for col in player_df.columns:\n",
    "    if col != 'RACE_YEAR' and col != 'PLAYER_NM':\n",
    "        df_4[f'{col}_PLAYER'] = np.nan\n",
    "\n",
    "for i, row in df_4.iterrows():\n",
    "    condition = (player_df['RACE_YEAR'] == row['RACE_YEAR']) & (player_df['PLAYER_NM'] == row['PLAYER_NM'])\n",
    "    if condition.any():\n",
    "        matching_row = player_df[condition].iloc[0]\n",
    "        for col in matching_row.index:\n",
    "            if col != 'RACE_YEAR' and col != 'PLAYER_NM':\n",
    "                df_4.at[i, f'{col}_PLAYER'] = matching_row[col]"
   ],
   "metadata": {
    "collapsed": false,
    "ExecuteTime": {
     "end_time": "2024-08-16T07:15:15.702401600Z",
     "start_time": "2024-08-16T07:13:39.388316700Z"
    }
   },
   "id": "85846ee967c3141f",
   "execution_count": 58
  },
  {
   "cell_type": "code",
   "outputs": [
    {
     "data": {
      "text/plain": "(104130, 78)"
     },
     "execution_count": 59,
     "metadata": {},
     "output_type": "execute_result"
    }
   ],
   "source": [
    "df_4.shape"
   ],
   "metadata": {
    "collapsed": false,
    "ExecuteTime": {
     "end_time": "2024-08-16T07:15:15.711855900Z",
     "start_time": "2024-08-16T07:15:15.704400800Z"
    }
   },
   "id": "2827befbf8e9a8c",
   "execution_count": 59
  },
  {
   "cell_type": "code",
   "outputs": [],
   "source": [
    "df_5 = df_4.copy()\n",
    "mask = div_df['OPER_INSTT_NM'] == '경정'\n",
    "div_df = div_df[mask]\n",
    "div_df.rename(columns={'PRACE_NO': 'RACE_NO'}, inplace=True)\n",
    "\n",
    "df_5 = df_5.merge(div_df, how='left',\n",
    "                  left_on=['RACE_YEAR', 'TME_VALUE', 'DAY_ORD_VALUE', 'RACE_NO'],\n",
    "                  right_on=['BASE_YEAR', 'TME_VALUE', 'DAY_ORD_VALUE', 'RACE_NO'])"
   ],
   "metadata": {
    "collapsed": false,
    "ExecuteTime": {
     "end_time": "2024-08-16T07:21:00.264194100Z",
     "start_time": "2024-08-16T07:21:00.128768300Z"
    }
   },
   "id": "f427e25d3cf24633",
   "execution_count": 69
  },
  {
   "cell_type": "code",
   "outputs": [
    {
     "data": {
      "text/plain": "(104130, 89)"
     },
     "execution_count": 70,
     "metadata": {},
     "output_type": "execute_result"
    }
   ],
   "source": [
    "df_5.shape"
   ],
   "metadata": {
    "collapsed": false,
    "ExecuteTime": {
     "end_time": "2024-08-16T07:21:00.483210800Z",
     "start_time": "2024-08-16T07:21:00.477750800Z"
    }
   },
   "id": "eb594d13ef0ed87c",
   "execution_count": 70
  },
  {
   "cell_type": "code",
   "outputs": [],
   "source": [
    "df_5.to_csv('Database/train.csv')"
   ],
   "metadata": {
    "collapsed": false,
    "ExecuteTime": {
     "end_time": "2024-08-16T07:21:45.811405100Z",
     "start_time": "2024-08-16T07:21:41.499418700Z"
    }
   },
   "id": "e518e93c71cc61fc",
   "execution_count": 71
  },
  {
   "cell_type": "markdown",
   "source": [
    "# 여기서부터 새로 전처리 시작"
   ],
   "metadata": {
    "collapsed": false
   },
   "id": "7e26bd5ad766643a"
  },
  {
   "cell_type": "markdown",
   "source": [
    "## 배치로 묶기 위해 필요.\n",
    "'RACE_YEAR', 경주년도\n",
    " 'TME_VALUE', 회차값\n",
    " 'DAY_ORD_VALUE', 일차값\n",
    " 'RACE_NO', 경주번호\n",
    "\n",
    "## 타겟칼럼 1,2,3까지는 순위가 있고 그 밑은 -1로 처리\n",
    " 'RANK', 순위\n",
    "\n",
    "## 필요없어 보이는 column.\n",
    " 'RACE_GRAD_NM', 일반경주 or 특별경주\n",
    " 'DPTR_TIME_VALUE', 출발시간 값/flying start 값 있어서 필요없어보임.\n",
    " 'JUNGBUN_NM', 정번명/선수고유번호라는데 필요없어보임.\n",
    " 'COLOR_NM', 색상명\n",
    " 'PLAYER_NM', 선수명\n",
    " 'THDT_PRACE_RACE_NO', 금일출주경주번호\n",
    " 'BEF1_BRDNG_PLAYER_CKSN_VALUE', 전탑승선수\n",
    " 'MOTOR_NO', 모터번호/ moter_df 다 합쳐서 필요없을듯\n",
    " 'BOAT_NO', 보트번호/ boat_df 다 합쳐서 필요없을듯\n",
    "\n",
    "## 중요한 column.\n",
    " 'PLAYER_GRAD_NM', 선수등급 중요\n",
    " 'SEXDSTN_FLAG_NM', 성별 아마도 중요\n",
    " 'AGE_VALUE', 나이 별로 안중요\n",
    " 'BDWGH_MESURE_VALUE', 몸무게 중요\n",
    " \n",
    " 'LATST_SIX_TME_AVRG_CKSN_SCORE_VALUE', 최근6회차평균착순점수값\n",
    " 'LATST_SIX_TME_AVRG_GTSR_VALUE', 최근6회차평균득점값\n",
    " 'LATST_SIX_TME_VICTRY_RT_VALUE', 최근6회차승리율값\n",
    " 'LATST_SIX_TME_YUNDAE_RT_TWO_VALUE', 최근6회차연대율2값\n",
    " 'LATST_SIX_TME_YUNDAE_RT_THREE_VALUE', 최근6회차연대율3값\n",
    " 'LATST_SIX_TME_AVGST_VALUE', 최근6회차평균ST값\n",
    " 'LATST_EIGHT_RACE_CKSN_VALUE', 최근8경주착순값\n",
    " \n",
    " 'FLYING_LATE_CO_VALUE', 플라잉 or 레이트 스타트 여부\n",
    " 'AVRG_ACDTSCRE_VALUE', 평균사고점\n",
    " \n",
    " 'FYER_ACCMLT_SCRE_AVRG_CKSN_SCORE_VALUE', 년간누적성적평균착순점수값\n",
    " 'FYER_ACCMLT_SCRE_YUNDAE_RT_VALUE', 년간누적성적연대율값\n",
    " \n",
    " \n",
    "## 좉같이 되어있어서 해석을 못함. 어떻게 쓸지 모르겠는 column\n",
    " 'BEF1_DAY_SCRE_VALUE', 전일성적값\n",
    " 'SIX_MONTH_PRACE_NCNT_VALUE', 6개월출주횟수값\n",
    " 'SIX_MONTH_YUNDAE_RT_COSE1_PRACE_CO_VALUE', 6개월연대율1코스출주수값\n",
    " 'SIX_MONTH_YUNDAE_RT_COSE2_PRACE_CO_VALUE', 6개월연대율2코스출주수값\n",
    " 'SIX_MONTH_YUNDAE_RT_COSE3_PRACE_CO_VALUE', 6개월연대율3코스출주수값\n",
    " 'SIX_MONTH_YUNDAE_RT_COSE4_PRACE_CO_VALUE', 6개월연대율4코스출주수값\n",
    " 'SIX_MONTH_YUNDAE_RT_COSE5_PRACE_CO_VALUE', 6개월연대율5코스출주수값\n",
    " 'SIX_MONTH_YUNDAE_RT_COSE6_PRACE_CO_VALUE', 6개월연대율6코스출주수값\n",
    " \n",
    "\n",
    "## 출주표에 원래 있던 모터 and 보트 정보\n",
    " 'MOTOR_AVRG_CKSN_SCORE_VALUE', 모터평균착순점수값\n",
    " 'MOTOR_TWO_YUNDAE_RT_VALUE', 모터2연대율값\n",
    " 'MOTOR_THREE_YUNDAE_RT_VALUE', 모터3연대율값\n",
    "\n",
    " 'BOAT_AVRG_CKSN_SCORE_VALUE', 보트평균착순점수값\n",
    " 'BOAT_YUNDAE_RT_VALUE', 보트연대율값\n",
    " 'DPTR_MTH_CD', 출발방법코드\n",
    " \n",
    "----------------------------------------------------------------------------------------\n",
    "이 밑 부턴 실제 test셋을 구할수 있는지 모르겠음\n",
    "\n",
    "## 출주표에 없는 보트정보\n",
    "  데이터 스키마가 없어서 못적음.\n",
    " 'PRACE_NCNT_BOAT',\n",
    " 'N1CK_NCNT_BOAT',\n",
    " 'N2CK_NCNT_BOAT',\n",
    " 'N3CK_NCNT_BOAT',\n",
    " 'AVRG_CKSN_SCORE_VALUE_BOAT',\n",
    " 'YUNDAE_RT_BOAT',\n",
    " 'BEST_SAIL_TIME_VALUE_BOAT',\n",
    " 'N2JU_BEST_TIME_VALUE_BOAT',\n",
    " 'N3JU_BEST_TIME_VALUE_BOAT',\n",
    " \n",
    "## 출주표에 없는 모터정보\n",
    " 'PRACE_NCNT_MOTOR', 출주횟수\n",
    " 'N1CK_NCNT_MOTOR', 1착횟수\n",
    " 'N2CK_NCNT_MOTOR', 2착횟수\n",
    " 'N3CK_NCNT_MOTOR', 3착횟수\n",
    " 'AVRG_CKSN_SCORE_VALUE_MOTOR', 평균착순점수값\n",
    " 'YUNDAE_RT_MOTOR', 연대율\n",
    " 'BEST_SAIL_TIME_VALUE_MOTOR', 최고항주시간값\n",
    " 'N2JU_BEST_TIME_VALUE_MOTOR', 2주회최고시간값\n",
    " 'N3JU_BEST_TIME_VALUE_MOTOR', 3주회최고시간값\n",
    " \n",
    "## 출주표에 없는 선수정보\n",
    "  데이터 스키마가 없어서 못적음.\n",
    " 'PLAYER_REGIST_NO_PLAYER',\n",
    " 'PRACE_NCNT_PLAYER',\n",
    " 'PRACE_1R_NCNT_PLAYER',\n",
    " 'PRACE_2R_NCNT_PLAYER',\n",
    " 'PRACE_3R_NCNT_PLAYER',\n",
    " 'PRACE_4R_NCNT_PLAYER',\n",
    " 'PRACE_5R_NCNT_PLAYER',\n",
    " 'PRACE_6R_NCNT_PLAYER',\n",
    " 'AVRG_CKSN_SCORE_VALUE_PLAYER',\n",
    " 'AVRG_ACDNT_SCORE_VALUE_PLAYER',\n",
    " 'AVRG_SCORE_VALUE_PLAYER',\n",
    " 'AVRG_BEGIN_TIME_VALUE_PLAYER',\n",
    " 'VICTRY_RT_PLAYER',\n",
    " 'YUNDAE_RT_PLAYER',\n",
    " 'THREE_YUNDAE_RT_PLAYER',\n",
    " 'PLAYER_GRAD_NM_PLAYER',\n",
    " 'PLAYER_PN_NO_PLAYER',\n",
    " \n",
    "## 배당정보인데 순위예측할거면 필요없지만 일단 붙여놓음.\n",
    " 'OPER_INSTT_NM', 운영기관명\n",
    " 'BASE_YEAR', 기준년도\n",
    " 'RACE_DE', 경주일자\n",
    " 'DANSEONG_VALUE', 단승값\n",
    " 'YNGSEONG_ONE_VALUE', 연승1값\n",
    " 'YNGSEONG_TWO_VALUE', 연승2값\n",
    " 'SSANGSEONG_VALUE', 쌍승값\n",
    " 'BOKSEONG_VALUE', 복승값\n",
    " 'SAMBOKSEONG_VALUE', 삼복승값\n",
    " 'SAMSSANGSEONG_DVDN_RT', 삼쌍승배당율\n",
    " 'SSANBOKSEONG_DVDN_RT' 쌍복승배당율"
   ],
   "metadata": {
    "collapsed": false
   },
   "id": "115fb37f71843613"
  },
  {
   "cell_type": "code",
   "outputs": [],
   "source": [
    "def standard_scale_train(train_data, feature_names):\n",
    "    \"\"\"\n",
    "    특정 feature들에 대해 Z 정규화를 수행하는 함수, sklearn의 StandardScaler 사용\n",
    "    :param train_data: 훈련 데이터셋 (DataFrame)\n",
    "    :param feature_names: 정규화를 수행할 특성들의 리스트\n",
    "    :return: 정규화된 훈련 데이터셋, 훈련된 StandardScaler 객체\n",
    "    \"\"\"\n",
    "    scaler = StandardScaler()\n",
    "    train_data_scaled = train_data.copy()\n",
    "    train_data_scaled[feature_names] = scaler.fit_transform(train_data[feature_names])\n",
    "    return train_data_scaled, scaler\n",
    "\n",
    "\n",
    "def standard_scale_val(X_val, feature_names, scaler):\n",
    "    \"\"\"\n",
    "    validation set을 특정 feature들에 대해 Z 정규화하는 함수, sklearn의 StandardScaler 사용\n",
    "    :param X_val: validation set (DataFrame)\n",
    "    :param feature_names: 정규화를 수행할 특성들의 리스트\n",
    "    :param scaler: 훈련 데이터셋에 대해 훈련된 StandardScaler 객체\n",
    "    :return: 정규화된 validation set\n",
    "    \"\"\"\n",
    "    X_val_scaled = X_val.copy()\n",
    "    X_val_scaled[feature_names] = scaler.transform(X_val[feature_names])\n",
    "    return X_val_scaled"
   ],
   "metadata": {
    "collapsed": false,
    "ExecuteTime": {
     "end_time": "2024-08-16T14:30:52.621129100Z",
     "start_time": "2024-08-16T14:30:52.613742700Z"
    }
   },
   "id": "c8200e5bd2e8ca1e",
   "execution_count": 129
  },
  {
   "cell_type": "code",
   "outputs": [],
   "source": [
    "data = pd.read_csv('Database/train.csv', index_col=0, low_memory=False)"
   ],
   "metadata": {
    "collapsed": false,
    "ExecuteTime": {
     "end_time": "2024-08-16T14:30:54.482173900Z",
     "start_time": "2024-08-16T14:30:52.960389600Z"
    }
   },
   "id": "f0aeea42914bcbdc",
   "execution_count": 130
  },
  {
   "cell_type": "code",
   "outputs": [],
   "source": [
    "train = data.iloc[:-10416, :]\n",
    "self_test = data.iloc[-10416:, :]\n",
    "train.set_index(['RACE_YEAR', 'TME_VALUE', 'DAY_ORD_VALUE', 'RACE_NO'], inplace=True)\n",
    "self_test.set_index(['RACE_YEAR', 'TME_VALUE', 'DAY_ORD_VALUE', 'RACE_NO'], inplace=True)"
   ],
   "metadata": {
    "collapsed": false,
    "ExecuteTime": {
     "end_time": "2024-08-16T14:30:54.918657Z",
     "start_time": "2024-08-16T14:30:54.892013400Z"
    }
   },
   "id": "5a1663b9dedd6ff7",
   "execution_count": 131
  },
  {
   "cell_type": "markdown",
   "source": [
    "# Train 이상치제거"
   ],
   "metadata": {
    "collapsed": false
   },
   "id": "8fa088f1bf0c32dc"
  },
  {
   "cell_type": "code",
   "outputs": [],
   "source": [
    "df_1 = train.copy()\n",
    "df_1 = df_1.loc[:, ['BDWGH_MESURE_VALUE', 'RANK']]\n",
    "numerical_df = df_1.select_dtypes(include=['number'])"
   ],
   "metadata": {
    "collapsed": false,
    "ExecuteTime": {
     "end_time": "2024-08-16T14:30:55.747222400Z",
     "start_time": "2024-08-16T14:30:55.669342Z"
    }
   },
   "id": "e4b040a6c2d5d11f",
   "execution_count": 132
  },
  {
   "cell_type": "markdown",
   "source": [
    "# Train 결측치제거"
   ],
   "metadata": {
    "collapsed": false
   },
   "id": "543edc6eee42805a"
  },
  {
   "cell_type": "code",
   "outputs": [],
   "source": [
    "df_2 = df_1.copy()"
   ],
   "metadata": {
    "collapsed": false,
    "ExecuteTime": {
     "end_time": "2024-08-16T14:30:56.332806600Z",
     "start_time": "2024-08-16T14:30:56.296733300Z"
    }
   },
   "id": "4b52ffbd9dfae666",
   "execution_count": 133
  },
  {
   "cell_type": "markdown",
   "source": [
    "# Train 파생변수"
   ],
   "metadata": {
    "collapsed": false
   },
   "id": "f6a1f1a65b07cf61"
  },
  {
   "cell_type": "code",
   "outputs": [],
   "source": [
    "df_3 = df_2.copy()"
   ],
   "metadata": {
    "collapsed": false,
    "ExecuteTime": {
     "end_time": "2024-08-16T14:30:56.780276100Z",
     "start_time": "2024-08-16T14:30:56.730696700Z"
    }
   },
   "id": "2ed2bc1e2a93dac4",
   "execution_count": 134
  },
  {
   "cell_type": "markdown",
   "source": [
    "# Train 범주형인코딩"
   ],
   "metadata": {
    "collapsed": false
   },
   "id": "9d09a80ac0534726"
  },
  {
   "cell_type": "code",
   "outputs": [],
   "source": [
    "df_4 = df_3.copy()"
   ],
   "metadata": {
    "collapsed": false,
    "ExecuteTime": {
     "end_time": "2024-08-16T14:30:57.415946600Z",
     "start_time": "2024-08-16T14:30:57.383759900Z"
    }
   },
   "id": "b87cd08773a42783",
   "execution_count": 135
  },
  {
   "cell_type": "markdown",
   "source": [
    "# Train 분포저장"
   ],
   "metadata": {
    "collapsed": false
   },
   "id": "3edf6507323f5a31"
  },
  {
   "cell_type": "code",
   "outputs": [],
   "source": [
    "X = df_4.drop(columns=['RANK'])\n",
    "y = df_4['RANK']\n",
    "X_train = X.iloc[:-9372, :]\n",
    "y_train = y.iloc[:-9372]\n",
    "X_val = X.iloc[-9372:, :]\n",
    "y_val = y.iloc[-9372:]"
   ],
   "metadata": {
    "collapsed": false,
    "ExecuteTime": {
     "end_time": "2024-08-16T14:34:07.356107600Z",
     "start_time": "2024-08-16T14:34:07.345939700Z"
    }
   },
   "id": "7358fe195bae3283",
   "execution_count": 147
  },
  {
   "cell_type": "code",
   "outputs": [],
   "source": [
    "X_train_norm = X_train.copy()\n",
    "X_train_norm.loc[:, ['BDWGH_MESURE_VALUE']], scaler = standard_scale_train(X_train, ['BDWGH_MESURE_VALUE'])\n",
    "X_val_norm = X_val.copy()\n",
    "X_val_norm.loc[:, ['BDWGH_MESURE_VALUE']] = standard_scale_val(X_val, ['BDWGH_MESURE_VALUE'], scaler)"
   ],
   "metadata": {
    "collapsed": false,
    "ExecuteTime": {
     "end_time": "2024-08-16T14:34:14.578371700Z",
     "start_time": "2024-08-16T14:34:14.344864900Z"
    }
   },
   "id": "577478ad85db2ce1",
   "execution_count": 148
  },
  {
   "cell_type": "code",
   "outputs": [
    {
     "data": {
      "text/plain": "['Database/scaler.joblib']"
     },
     "execution_count": 149,
     "metadata": {},
     "output_type": "execute_result"
    }
   ],
   "source": [
    "dump(scaler, f'Database/scaler.joblib')"
   ],
   "metadata": {
    "collapsed": false,
    "ExecuteTime": {
     "end_time": "2024-08-16T14:34:18.258915400Z",
     "start_time": "2024-08-16T14:34:18.235063400Z"
    }
   },
   "id": "38e8c0b05328372b",
   "execution_count": 149
  },
  {
   "cell_type": "markdown",
   "source": [
    "# Test 이상치제거"
   ],
   "metadata": {
    "collapsed": false
   },
   "id": "9a0722f0c2e48614"
  },
  {
   "cell_type": "code",
   "outputs": [],
   "source": [
    "df_1 = self_test.copy()\n",
    "df_1 = df_1.loc[:, ['BDWGH_MESURE_VALUE', 'RANK']]"
   ],
   "metadata": {
    "collapsed": false,
    "ExecuteTime": {
     "end_time": "2024-08-16T14:34:19.083131700Z",
     "start_time": "2024-08-16T14:34:19.053070200Z"
    }
   },
   "id": "a131dd108ba8a175",
   "execution_count": 150
  },
  {
   "cell_type": "markdown",
   "source": [
    "# Test 결측치제거"
   ],
   "metadata": {
    "collapsed": false
   },
   "id": "40b3660060861bd8"
  },
  {
   "cell_type": "code",
   "outputs": [],
   "source": [
    "df_2 = df_1.copy()"
   ],
   "metadata": {
    "collapsed": false,
    "ExecuteTime": {
     "end_time": "2024-08-16T14:34:19.822566700Z",
     "start_time": "2024-08-16T14:34:19.812261Z"
    }
   },
   "id": "6cef77a5b2647ce8",
   "execution_count": 151
  },
  {
   "cell_type": "markdown",
   "source": [
    "# Test 파생변수"
   ],
   "metadata": {
    "collapsed": false
   },
   "id": "b4a860d3bee01d9a"
  },
  {
   "cell_type": "code",
   "outputs": [],
   "source": [
    "df_3 = df_2.copy()"
   ],
   "metadata": {
    "collapsed": false,
    "ExecuteTime": {
     "end_time": "2024-08-16T14:34:20.232453700Z",
     "start_time": "2024-08-16T14:34:20.222123800Z"
    }
   },
   "id": "5840adff623fd4b",
   "execution_count": 152
  },
  {
   "cell_type": "markdown",
   "source": [
    "# Test 범주형인코딩"
   ],
   "metadata": {
    "collapsed": false
   },
   "id": "fa6d8f19fa5ff199"
  },
  {
   "cell_type": "code",
   "outputs": [],
   "source": [
    "df_4 = df_3.copy()"
   ],
   "metadata": {
    "collapsed": false,
    "ExecuteTime": {
     "end_time": "2024-08-16T14:34:20.623743100Z",
     "start_time": "2024-08-16T14:34:20.612915500Z"
    }
   },
   "id": "994871e2aa0f9003",
   "execution_count": 153
  },
  {
   "cell_type": "markdown",
   "source": [
    "# Test 이산형변수 칼럼통일"
   ],
   "metadata": {
    "collapsed": false
   },
   "id": "eb7b7ffea67270e3"
  },
  {
   "cell_type": "code",
   "outputs": [],
   "source": [
    "y2 = df_4['RANK']\n",
    "X2 = df_4.drop(columns='RANK')\n",
    "\n",
    "# train에만 있고 test에 없는 경우, 해당 column name으로 test에 zero columns 추가.\n",
    "X2[list(X_val_norm.columns[X_val_norm.columns.isin(X2) == False])] = 0\n",
    "\n",
    "# test에만 있고 train에는 없는 경우, 해당 column name은 제거.\n",
    "X2 = X2.drop(columns=list(X2.columns[X2.columns.isin(X_val_norm) == False]))\n",
    "X2 = X2[X_val_norm.columns]"
   ],
   "metadata": {
    "collapsed": false,
    "ExecuteTime": {
     "end_time": "2024-08-16T14:34:21.363210900Z",
     "start_time": "2024-08-16T14:34:21.353456700Z"
    }
   },
   "id": "e566cdb1e003c244",
   "execution_count": 154
  },
  {
   "cell_type": "markdown",
   "source": [
    "# test 연속형변수 분포통일"
   ],
   "metadata": {
    "collapsed": false
   },
   "id": "57893895fd9e47f9"
  },
  {
   "cell_type": "code",
   "outputs": [],
   "source": [
    "X2.loc[:, ['BDWGH_MESURE_VALUE']] = standard_scale_val(X2, ['BDWGH_MESURE_VALUE'], scaler)"
   ],
   "metadata": {
    "collapsed": false,
    "ExecuteTime": {
     "end_time": "2024-08-16T14:34:23.787215800Z",
     "start_time": "2024-08-16T14:34:23.761212500Z"
    }
   },
   "id": "fcacbe91346eaa45",
   "execution_count": 155
  },
  {
   "cell_type": "code",
   "outputs": [
    {
     "data": {
      "text/plain": "(84342, 1)"
     },
     "execution_count": 175,
     "metadata": {},
     "output_type": "execute_result"
    }
   ],
   "source": [
    "X_train_norm.shape"
   ],
   "metadata": {
    "collapsed": false,
    "ExecuteTime": {
     "end_time": "2024-08-16T15:09:51.185877100Z",
     "start_time": "2024-08-16T15:09:51.173314900Z"
    }
   },
   "id": "7970b1d4b699e3ac",
   "execution_count": 175
  },
  {
   "cell_type": "code",
   "outputs": [
    {
     "data": {
      "text/plain": "(84342,)"
     },
     "execution_count": 176,
     "metadata": {},
     "output_type": "execute_result"
    }
   ],
   "source": [
    "y_train.shape"
   ],
   "metadata": {
    "collapsed": false,
    "ExecuteTime": {
     "end_time": "2024-08-16T15:09:55.970208800Z",
     "start_time": "2024-08-16T15:09:55.954687800Z"
    }
   },
   "id": "26ebac5e2cf54842",
   "execution_count": 176
  },
  {
   "cell_type": "code",
   "outputs": [
    {
     "data": {
      "text/plain": "(9372, 1)"
     },
     "execution_count": 177,
     "metadata": {},
     "output_type": "execute_result"
    }
   ],
   "source": [
    "X_val_norm.shape"
   ],
   "metadata": {
    "collapsed": false,
    "ExecuteTime": {
     "end_time": "2024-08-16T15:10:03.931060900Z",
     "start_time": "2024-08-16T15:10:03.919706100Z"
    }
   },
   "id": "807d5fc7ee992113",
   "execution_count": 177
  },
  {
   "cell_type": "code",
   "outputs": [
    {
     "data": {
      "text/plain": "DecisionTreeClassifier()",
      "text/html": "<style>#sk-container-id-3 {\n  /* Definition of color scheme common for light and dark mode */\n  --sklearn-color-text: black;\n  --sklearn-color-line: gray;\n  /* Definition of color scheme for unfitted estimators */\n  --sklearn-color-unfitted-level-0: #fff5e6;\n  --sklearn-color-unfitted-level-1: #f6e4d2;\n  --sklearn-color-unfitted-level-2: #ffe0b3;\n  --sklearn-color-unfitted-level-3: chocolate;\n  /* Definition of color scheme for fitted estimators */\n  --sklearn-color-fitted-level-0: #f0f8ff;\n  --sklearn-color-fitted-level-1: #d4ebff;\n  --sklearn-color-fitted-level-2: #b3dbfd;\n  --sklearn-color-fitted-level-3: cornflowerblue;\n\n  /* Specific color for light theme */\n  --sklearn-color-text-on-default-background: var(--sg-text-color, var(--theme-code-foreground, var(--jp-content-font-color1, black)));\n  --sklearn-color-background: var(--sg-background-color, var(--theme-background, var(--jp-layout-color0, white)));\n  --sklearn-color-border-box: var(--sg-text-color, var(--theme-code-foreground, var(--jp-content-font-color1, black)));\n  --sklearn-color-icon: #696969;\n\n  @media (prefers-color-scheme: dark) {\n    /* Redefinition of color scheme for dark theme */\n    --sklearn-color-text-on-default-background: var(--sg-text-color, var(--theme-code-foreground, var(--jp-content-font-color1, white)));\n    --sklearn-color-background: var(--sg-background-color, var(--theme-background, var(--jp-layout-color0, #111)));\n    --sklearn-color-border-box: var(--sg-text-color, var(--theme-code-foreground, var(--jp-content-font-color1, white)));\n    --sklearn-color-icon: #878787;\n  }\n}\n\n#sk-container-id-3 {\n  color: var(--sklearn-color-text);\n}\n\n#sk-container-id-3 pre {\n  padding: 0;\n}\n\n#sk-container-id-3 input.sk-hidden--visually {\n  border: 0;\n  clip: rect(1px 1px 1px 1px);\n  clip: rect(1px, 1px, 1px, 1px);\n  height: 1px;\n  margin: -1px;\n  overflow: hidden;\n  padding: 0;\n  position: absolute;\n  width: 1px;\n}\n\n#sk-container-id-3 div.sk-dashed-wrapped {\n  border: 1px dashed var(--sklearn-color-line);\n  margin: 0 0.4em 0.5em 0.4em;\n  box-sizing: border-box;\n  padding-bottom: 0.4em;\n  background-color: var(--sklearn-color-background);\n}\n\n#sk-container-id-3 div.sk-container {\n  /* jupyter's `normalize.less` sets `[hidden] { display: none; }`\n     but bootstrap.min.css set `[hidden] { display: none !important; }`\n     so we also need the `!important` here to be able to override the\n     default hidden behavior on the sphinx rendered scikit-learn.org.\n     See: https://github.com/scikit-learn/scikit-learn/issues/21755 */\n  display: inline-block !important;\n  position: relative;\n}\n\n#sk-container-id-3 div.sk-text-repr-fallback {\n  display: none;\n}\n\ndiv.sk-parallel-item,\ndiv.sk-serial,\ndiv.sk-item {\n  /* draw centered vertical line to link estimators */\n  background-image: linear-gradient(var(--sklearn-color-text-on-default-background), var(--sklearn-color-text-on-default-background));\n  background-size: 2px 100%;\n  background-repeat: no-repeat;\n  background-position: center center;\n}\n\n/* Parallel-specific style estimator block */\n\n#sk-container-id-3 div.sk-parallel-item::after {\n  content: \"\";\n  width: 100%;\n  border-bottom: 2px solid var(--sklearn-color-text-on-default-background);\n  flex-grow: 1;\n}\n\n#sk-container-id-3 div.sk-parallel {\n  display: flex;\n  align-items: stretch;\n  justify-content: center;\n  background-color: var(--sklearn-color-background);\n  position: relative;\n}\n\n#sk-container-id-3 div.sk-parallel-item {\n  display: flex;\n  flex-direction: column;\n}\n\n#sk-container-id-3 div.sk-parallel-item:first-child::after {\n  align-self: flex-end;\n  width: 50%;\n}\n\n#sk-container-id-3 div.sk-parallel-item:last-child::after {\n  align-self: flex-start;\n  width: 50%;\n}\n\n#sk-container-id-3 div.sk-parallel-item:only-child::after {\n  width: 0;\n}\n\n/* Serial-specific style estimator block */\n\n#sk-container-id-3 div.sk-serial {\n  display: flex;\n  flex-direction: column;\n  align-items: center;\n  background-color: var(--sklearn-color-background);\n  padding-right: 1em;\n  padding-left: 1em;\n}\n\n\n/* Toggleable style: style used for estimator/Pipeline/ColumnTransformer box that is\nclickable and can be expanded/collapsed.\n- Pipeline and ColumnTransformer use this feature and define the default style\n- Estimators will overwrite some part of the style using the `sk-estimator` class\n*/\n\n/* Pipeline and ColumnTransformer style (default) */\n\n#sk-container-id-3 div.sk-toggleable {\n  /* Default theme specific background. It is overwritten whether we have a\n  specific estimator or a Pipeline/ColumnTransformer */\n  background-color: var(--sklearn-color-background);\n}\n\n/* Toggleable label */\n#sk-container-id-3 label.sk-toggleable__label {\n  cursor: pointer;\n  display: block;\n  width: 100%;\n  margin-bottom: 0;\n  padding: 0.5em;\n  box-sizing: border-box;\n  text-align: center;\n}\n\n#sk-container-id-3 label.sk-toggleable__label-arrow:before {\n  /* Arrow on the left of the label */\n  content: \"▸\";\n  float: left;\n  margin-right: 0.25em;\n  color: var(--sklearn-color-icon);\n}\n\n#sk-container-id-3 label.sk-toggleable__label-arrow:hover:before {\n  color: var(--sklearn-color-text);\n}\n\n/* Toggleable content - dropdown */\n\n#sk-container-id-3 div.sk-toggleable__content {\n  max-height: 0;\n  max-width: 0;\n  overflow: hidden;\n  text-align: left;\n  /* unfitted */\n  background-color: var(--sklearn-color-unfitted-level-0);\n}\n\n#sk-container-id-3 div.sk-toggleable__content.fitted {\n  /* fitted */\n  background-color: var(--sklearn-color-fitted-level-0);\n}\n\n#sk-container-id-3 div.sk-toggleable__content pre {\n  margin: 0.2em;\n  border-radius: 0.25em;\n  color: var(--sklearn-color-text);\n  /* unfitted */\n  background-color: var(--sklearn-color-unfitted-level-0);\n}\n\n#sk-container-id-3 div.sk-toggleable__content.fitted pre {\n  /* unfitted */\n  background-color: var(--sklearn-color-fitted-level-0);\n}\n\n#sk-container-id-3 input.sk-toggleable__control:checked~div.sk-toggleable__content {\n  /* Expand drop-down */\n  max-height: 200px;\n  max-width: 100%;\n  overflow: auto;\n}\n\n#sk-container-id-3 input.sk-toggleable__control:checked~label.sk-toggleable__label-arrow:before {\n  content: \"▾\";\n}\n\n/* Pipeline/ColumnTransformer-specific style */\n\n#sk-container-id-3 div.sk-label input.sk-toggleable__control:checked~label.sk-toggleable__label {\n  color: var(--sklearn-color-text);\n  background-color: var(--sklearn-color-unfitted-level-2);\n}\n\n#sk-container-id-3 div.sk-label.fitted input.sk-toggleable__control:checked~label.sk-toggleable__label {\n  background-color: var(--sklearn-color-fitted-level-2);\n}\n\n/* Estimator-specific style */\n\n/* Colorize estimator box */\n#sk-container-id-3 div.sk-estimator input.sk-toggleable__control:checked~label.sk-toggleable__label {\n  /* unfitted */\n  background-color: var(--sklearn-color-unfitted-level-2);\n}\n\n#sk-container-id-3 div.sk-estimator.fitted input.sk-toggleable__control:checked~label.sk-toggleable__label {\n  /* fitted */\n  background-color: var(--sklearn-color-fitted-level-2);\n}\n\n#sk-container-id-3 div.sk-label label.sk-toggleable__label,\n#sk-container-id-3 div.sk-label label {\n  /* The background is the default theme color */\n  color: var(--sklearn-color-text-on-default-background);\n}\n\n/* On hover, darken the color of the background */\n#sk-container-id-3 div.sk-label:hover label.sk-toggleable__label {\n  color: var(--sklearn-color-text);\n  background-color: var(--sklearn-color-unfitted-level-2);\n}\n\n/* Label box, darken color on hover, fitted */\n#sk-container-id-3 div.sk-label.fitted:hover label.sk-toggleable__label.fitted {\n  color: var(--sklearn-color-text);\n  background-color: var(--sklearn-color-fitted-level-2);\n}\n\n/* Estimator label */\n\n#sk-container-id-3 div.sk-label label {\n  font-family: monospace;\n  font-weight: bold;\n  display: inline-block;\n  line-height: 1.2em;\n}\n\n#sk-container-id-3 div.sk-label-container {\n  text-align: center;\n}\n\n/* Estimator-specific */\n#sk-container-id-3 div.sk-estimator {\n  font-family: monospace;\n  border: 1px dotted var(--sklearn-color-border-box);\n  border-radius: 0.25em;\n  box-sizing: border-box;\n  margin-bottom: 0.5em;\n  /* unfitted */\n  background-color: var(--sklearn-color-unfitted-level-0);\n}\n\n#sk-container-id-3 div.sk-estimator.fitted {\n  /* fitted */\n  background-color: var(--sklearn-color-fitted-level-0);\n}\n\n/* on hover */\n#sk-container-id-3 div.sk-estimator:hover {\n  /* unfitted */\n  background-color: var(--sklearn-color-unfitted-level-2);\n}\n\n#sk-container-id-3 div.sk-estimator.fitted:hover {\n  /* fitted */\n  background-color: var(--sklearn-color-fitted-level-2);\n}\n\n/* Specification for estimator info (e.g. \"i\" and \"?\") */\n\n/* Common style for \"i\" and \"?\" */\n\n.sk-estimator-doc-link,\na:link.sk-estimator-doc-link,\na:visited.sk-estimator-doc-link {\n  float: right;\n  font-size: smaller;\n  line-height: 1em;\n  font-family: monospace;\n  background-color: var(--sklearn-color-background);\n  border-radius: 1em;\n  height: 1em;\n  width: 1em;\n  text-decoration: none !important;\n  margin-left: 1ex;\n  /* unfitted */\n  border: var(--sklearn-color-unfitted-level-1) 1pt solid;\n  color: var(--sklearn-color-unfitted-level-1);\n}\n\n.sk-estimator-doc-link.fitted,\na:link.sk-estimator-doc-link.fitted,\na:visited.sk-estimator-doc-link.fitted {\n  /* fitted */\n  border: var(--sklearn-color-fitted-level-1) 1pt solid;\n  color: var(--sklearn-color-fitted-level-1);\n}\n\n/* On hover */\ndiv.sk-estimator:hover .sk-estimator-doc-link:hover,\n.sk-estimator-doc-link:hover,\ndiv.sk-label-container:hover .sk-estimator-doc-link:hover,\n.sk-estimator-doc-link:hover {\n  /* unfitted */\n  background-color: var(--sklearn-color-unfitted-level-3);\n  color: var(--sklearn-color-background);\n  text-decoration: none;\n}\n\ndiv.sk-estimator.fitted:hover .sk-estimator-doc-link.fitted:hover,\n.sk-estimator-doc-link.fitted:hover,\ndiv.sk-label-container:hover .sk-estimator-doc-link.fitted:hover,\n.sk-estimator-doc-link.fitted:hover {\n  /* fitted */\n  background-color: var(--sklearn-color-fitted-level-3);\n  color: var(--sklearn-color-background);\n  text-decoration: none;\n}\n\n/* Span, style for the box shown on hovering the info icon */\n.sk-estimator-doc-link span {\n  display: none;\n  z-index: 9999;\n  position: relative;\n  font-weight: normal;\n  right: .2ex;\n  padding: .5ex;\n  margin: .5ex;\n  width: min-content;\n  min-width: 20ex;\n  max-width: 50ex;\n  color: var(--sklearn-color-text);\n  box-shadow: 2pt 2pt 4pt #999;\n  /* unfitted */\n  background: var(--sklearn-color-unfitted-level-0);\n  border: .5pt solid var(--sklearn-color-unfitted-level-3);\n}\n\n.sk-estimator-doc-link.fitted span {\n  /* fitted */\n  background: var(--sklearn-color-fitted-level-0);\n  border: var(--sklearn-color-fitted-level-3);\n}\n\n.sk-estimator-doc-link:hover span {\n  display: block;\n}\n\n/* \"?\"-specific style due to the `<a>` HTML tag */\n\n#sk-container-id-3 a.estimator_doc_link {\n  float: right;\n  font-size: 1rem;\n  line-height: 1em;\n  font-family: monospace;\n  background-color: var(--sklearn-color-background);\n  border-radius: 1rem;\n  height: 1rem;\n  width: 1rem;\n  text-decoration: none;\n  /* unfitted */\n  color: var(--sklearn-color-unfitted-level-1);\n  border: var(--sklearn-color-unfitted-level-1) 1pt solid;\n}\n\n#sk-container-id-3 a.estimator_doc_link.fitted {\n  /* fitted */\n  border: var(--sklearn-color-fitted-level-1) 1pt solid;\n  color: var(--sklearn-color-fitted-level-1);\n}\n\n/* On hover */\n#sk-container-id-3 a.estimator_doc_link:hover {\n  /* unfitted */\n  background-color: var(--sklearn-color-unfitted-level-3);\n  color: var(--sklearn-color-background);\n  text-decoration: none;\n}\n\n#sk-container-id-3 a.estimator_doc_link.fitted:hover {\n  /* fitted */\n  background-color: var(--sklearn-color-fitted-level-3);\n}\n</style><div id=\"sk-container-id-3\" class=\"sk-top-container\"><div class=\"sk-text-repr-fallback\"><pre>DecisionTreeClassifier()</pre><b>In a Jupyter environment, please rerun this cell to show the HTML representation or trust the notebook. <br />On GitHub, the HTML representation is unable to render, please try loading this page with nbviewer.org.</b></div><div class=\"sk-container\" hidden><div class=\"sk-item\"><div class=\"sk-estimator fitted sk-toggleable\"><input class=\"sk-toggleable__control sk-hidden--visually\" id=\"sk-estimator-id-3\" type=\"checkbox\" checked><label for=\"sk-estimator-id-3\" class=\"sk-toggleable__label fitted sk-toggleable__label-arrow fitted\">&nbsp;&nbsp;DecisionTreeClassifier<a class=\"sk-estimator-doc-link fitted\" rel=\"noreferrer\" target=\"_blank\" href=\"https://scikit-learn.org/1.4/modules/generated/sklearn.tree.DecisionTreeClassifier.html\">?<span>Documentation for DecisionTreeClassifier</span></a><span class=\"sk-estimator-doc-link fitted\">i<span>Fitted</span></span></label><div class=\"sk-toggleable__content fitted\"><pre>DecisionTreeClassifier()</pre></div> </div></div></div></div>"
     },
     "execution_count": 174,
     "metadata": {},
     "output_type": "execute_result"
    },
    {
     "data": {
      "text/plain": "0.3349944447639201"
     },
     "execution_count": 174,
     "metadata": {},
     "output_type": "execute_result"
    }
   ],
   "source": [
    "from sklearn.tree import DecisionTreeClassifier\n",
    "from sklearn.metrics import f1_score\n",
    "\n",
    "model=DecisionTreeClassifier()\n",
    "\n",
    "model.fit(X_train_norm, y_train)\n",
    "\n",
    "pred=model.predict(X_val)\n",
    "\n",
    "f1_score(y_val, pred, average='weighted')"
   ],
   "metadata": {
    "collapsed": false,
    "ExecuteTime": {
     "end_time": "2024-08-16T15:09:30.501218300Z",
     "start_time": "2024-08-16T15:09:30.468246700Z"
    }
   },
   "id": "4b8ffee7095670a7",
   "execution_count": 174
  },
  {
   "cell_type": "markdown",
   "source": [
    "# 최종 전처리데이터 저장"
   ],
   "metadata": {
    "collapsed": false
   },
   "id": "e547d8a752acea5"
  },
  {
   "cell_type": "code",
   "outputs": [],
   "source": [
    "data_dict={}\n",
    "file_lst=['X_train_norm', 'y_train', 'X_val_norm', 'y_val', 'X_test', 'y_test']\n",
    "for i, data in enumerate([X_train_norm, y_train, X_val_norm, y_val, X2, y2]):\n",
    "    grouped = data.groupby(data.index)\n",
    "    batched_array = np.array([group.to_numpy() for _, group in grouped])\n",
    "    data_dict[file_lst[i]]=batched_array"
   ],
   "metadata": {
    "collapsed": false
   },
   "id": "43c00553d82a762f",
   "execution_count": 171
  },
  {
   "cell_type": "code",
   "outputs": [
    {
     "data": {
      "text/plain": "<HDF5 dataset \"X_train_norm\": shape (14057, 6, 1), type \"<f8\">"
     },
     "execution_count": 172,
     "metadata": {},
     "output_type": "execute_result"
    },
    {
     "data": {
      "text/plain": "<HDF5 dataset \"y_train\": shape (14057, 6), type \"<i8\">"
     },
     "execution_count": 172,
     "metadata": {},
     "output_type": "execute_result"
    },
    {
     "data": {
      "text/plain": "<HDF5 dataset \"X_val_norm\": shape (1562, 6, 1), type \"<f8\">"
     },
     "execution_count": 172,
     "metadata": {},
     "output_type": "execute_result"
    },
    {
     "data": {
      "text/plain": "<HDF5 dataset \"y_val\": shape (1562, 6), type \"<i8\">"
     },
     "execution_count": 172,
     "metadata": {},
     "output_type": "execute_result"
    },
    {
     "data": {
      "text/plain": "<HDF5 dataset \"X_test\": shape (1736, 6, 1), type \"<f8\">"
     },
     "execution_count": 172,
     "metadata": {},
     "output_type": "execute_result"
    },
    {
     "data": {
      "text/plain": "<HDF5 dataset \"y_test\": shape (1736, 6), type \"<i8\">"
     },
     "execution_count": 172,
     "metadata": {},
     "output_type": "execute_result"
    }
   ],
   "source": [
    "for i in range(6):\n",
    "    with h5py.File(f'Database/{file_lst[i]}.h5', 'w') as f:\n",
    "        f.create_dataset(file_lst[i], data=data_dict[file_lst[i]])"
   ],
   "metadata": {
    "collapsed": false,
    "ExecuteTime": {
     "end_time": "2024-08-16T14:54:36.157166100Z",
     "start_time": "2024-08-16T14:54:36.100545600Z"
    }
   },
   "id": "761cde210432af7e",
   "execution_count": 172
  }
 ],
 "metadata": {
  "kernelspec": {
   "display_name": "Python 3",
   "language": "python",
   "name": "python3"
  },
  "language_info": {
   "codemirror_mode": {
    "name": "ipython",
    "version": 2
   },
   "file_extension": ".py",
   "mimetype": "text/x-python",
   "name": "python",
   "nbconvert_exporter": "python",
   "pygments_lexer": "ipython2",
   "version": "2.7.6"
  }
 },
 "nbformat": 4,
 "nbformat_minor": 5
}
